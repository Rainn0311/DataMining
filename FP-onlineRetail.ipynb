{
 "cells": [
  {
   "metadata": {
    "ExecuteTime": {
     "end_time": "2024-11-21T12:55:52.338392Z",
     "start_time": "2024-11-21T12:55:32.965396Z"
    }
   },
   "cell_type": "code",
   "source": [
    "# Importing libraries\n",
    "import pandas as pd\n",
    "import numpy as np\n",
    "from mlxtend.frequent_patterns import fpgrowth, association_rules\n",
    "\n",
    "# Load the data\n",
    "data = pd.read_excel('./data/Online_Retail.xlsx')\n"
   ],
   "id": "cfab4530d363140d",
   "outputs": [],
   "execution_count": 1
  },
  {
   "metadata": {
    "ExecuteTime": {
     "end_time": "2024-11-21T12:55:52.629402Z",
     "start_time": "2024-11-21T12:55:52.345537Z"
    }
   },
   "cell_type": "code",
   "source": [
    "# Data Cleaning\n",
    "data['Description'] = data['Description'].str.strip()  # Remove extra spaces\n",
    "data.dropna(subset=['InvoiceNo'], inplace=True)        # Drop rows with missing InvoiceNo\n",
    "data['InvoiceNo'] = data['InvoiceNo'].astype('str')    # Ensure InvoiceNo is string\n",
    "\n",
    "data = data[~data['InvoiceNo'].str.contains('C')]      # Exclude credit transactions\n",
    "\n",
    "# Hot encoding function\n",
    "def hot_encode(x):\n",
    "    return 1 if x >= 1 else 0"
   ],
   "id": "20c791616b42e7ea",
   "outputs": [],
   "execution_count": 2
  },
  {
   "metadata": {
    "ExecuteTime": {
     "end_time": "2024-11-21T12:56:09.888814Z",
     "start_time": "2024-11-21T12:55:52.729846Z"
    }
   },
   "cell_type": "code",
   "source": [
    "# Filtering data for United Kingdom\n",
    "basket_UK = (data[data['Country'] == \"United Kingdom\"]\n",
    "             .groupby(['InvoiceNo', 'Description'])['Quantity']\n",
    "             .sum().unstack().reset_index().fillna(0)\n",
    "             .set_index('InvoiceNo'))\n",
    "\n",
    "# Hot encoding the data\n",
    "basket_UK = basket_UK.applymap(hot_encode)\n",
    "\n",
    "# FP-Growth for UK\n",
    "frq_items_UK = fpgrowth(basket_UK, min_support=0.02, use_colnames=True)\n",
    "rules_UK = association_rules(frq_items_UK, metric=\"lift\", min_threshold=1)\n",
    "\n",
    "# Display results\n",
    "print(\"Rules for United Kingdom\")\n",
    "print(rules_UK.sort_values(['confidence', 'lift'], ascending=[False, False]).head())"
   ],
   "id": "5b3c8d9835a0e1ac",
   "outputs": [
    {
     "name": "stderr",
     "output_type": "stream",
     "text": [
      "/var/folders/m9/0nbg00p93sb92bjc9f6mqs700000gn/T/ipykernel_37946/2667214264.py:8: FutureWarning: DataFrame.applymap has been deprecated. Use DataFrame.map instead.\n",
      "  basket_UK = basket_UK.applymap(hot_encode)\n",
      "/Users/rainn/miniconda3/lib/python3.12/site-packages/mlxtend/frequent_patterns/fpcommon.py:109: DeprecationWarning: DataFrames with non-bool types result in worse computationalperformance and their support might be discontinued in the future.Please use a DataFrame with bool type\n",
      "  warnings.warn(\n"
     ]
    },
    {
     "name": "stdout",
     "output_type": "stream",
     "text": [
      "Rules for United Kingdom\n",
      "                                           antecedents  \\\n",
      "150  (PINK REGENCY TEACUP AND SAUCER, ROSES REGENCY...   \n",
      "148  (GREEN REGENCY TEACUP AND SAUCER, PINK REGENCY...   \n",
      "145                   (PINK REGENCY TEACUP AND SAUCER)   \n",
      "18   (JUMBO STORAGE BAG SUKI, JUMBO BAG PINK POLKADOT)   \n",
      "146                   (PINK REGENCY TEACUP AND SAUCER)   \n",
      "\n",
      "                           consequents  antecedent support  \\\n",
      "150  (GREEN REGENCY TEACUP AND SAUCER)            0.029249   \n",
      "148  (ROSES REGENCY TEACUP AND SAUCER)            0.030910   \n",
      "145  (GREEN REGENCY TEACUP AND SAUCER)            0.037660   \n",
      "18           (JUMBO BAG RED RETROSPOT)            0.027053   \n",
      "146  (ROSES REGENCY TEACUP AND SAUCER)            0.037660   \n",
      "\n",
      "     consequent support   support  confidence       lift  leverage  \\\n",
      "150            0.050035  0.026410    0.902930  18.046041  0.024947   \n",
      "148            0.051267  0.026410    0.854419  16.666089  0.024826   \n",
      "145            0.050035  0.030910    0.820768  16.403939  0.029026   \n",
      "18             0.103820  0.021696    0.801980   7.724749  0.018887   \n",
      "146            0.051267  0.029249    0.776671  15.149556  0.027319   \n",
      "\n",
      "     conviction  zhangs_metric  \n",
      "150    9.786434       0.973047  \n",
      "148    6.516893       0.969980  \n",
      "145    5.300203       0.975787  \n",
      "18     4.525711       0.894752  \n",
      "146    4.248149       0.970542  \n"
     ]
    }
   ],
   "execution_count": 3
  },
  {
   "metadata": {
    "ExecuteTime": {
     "end_time": "2024-11-21T12:56:10.092139Z",
     "start_time": "2024-11-21T12:56:09.900252Z"
    }
   },
   "cell_type": "code",
   "source": [
    "# Filtering data for France\n",
    "basket_France = (data[data['Country'] == \"France\"]\n",
    "                 .groupby(['InvoiceNo', 'Description'])['Quantity']\n",
    "                 .sum().unstack().reset_index().fillna(0)\n",
    "                 .set_index('InvoiceNo'))\n",
    "\n",
    "# Hot encoding the data\n",
    "basket_France = basket_France.applymap(hot_encode)\n",
    "\n",
    "# FP-Growth for France\n",
    "frq_items_France = fpgrowth(basket_France, min_support=0.05, use_colnames=True)\n",
    "rules_France = association_rules(frq_items_France, metric=\"lift\", min_threshold=1)\n",
    "\n",
    "# Display results\n",
    "print(\"Rules for France\")\n",
    "print(rules_France.sort_values(['confidence', 'lift'], ascending=[False, False]).head())"
   ],
   "id": "9b7cdaa7b43da2a9",
   "outputs": [
    {
     "name": "stdout",
     "output_type": "stream",
     "text": [
      "Rules for France\n",
      "                                           antecedents  \\\n",
      "114  (RED TOADSTOOL LED NIGHT LIGHT, PLASTERS IN TI...   \n",
      "272  (RED TOADSTOOL LED NIGHT LIGHT, PLASTERS IN TI...   \n",
      "329                       (JUMBO BAG WOODLAND ANIMALS)   \n",
      "222  (SET/20 RED RETROSPOT PAPER NAPKINS, SET/6 RED...   \n",
      "221  (SET/6 RED SPOTTY PAPER PLATES, SET/20 RED RET...   \n",
      "\n",
      "                         consequents  antecedent support  consequent support  \\\n",
      "114                        (POSTAGE)            0.053571            0.765306   \n",
      "272                        (POSTAGE)            0.051020            0.765306   \n",
      "329                        (POSTAGE)            0.076531            0.765306   \n",
      "222  (SET/6 RED SPOTTY PAPER PLATES)            0.102041            0.127551   \n",
      "221    (SET/6 RED SPOTTY PAPER CUPS)            0.102041            0.137755   \n",
      "\n",
      "      support  confidence      lift  leverage  conviction  zhangs_metric  \n",
      "114  0.053571       1.000  1.306667  0.012573         inf       0.247978  \n",
      "272  0.051020       1.000  1.306667  0.011974         inf       0.247312  \n",
      "329  0.076531       1.000  1.306667  0.017961         inf       0.254144  \n",
      "222  0.099490       0.975  7.644000  0.086474   34.897959       0.967949  \n",
      "221  0.099490       0.975  7.077778  0.085433   34.489796       0.956294  \n"
     ]
    },
    {
     "name": "stderr",
     "output_type": "stream",
     "text": [
      "/var/folders/m9/0nbg00p93sb92bjc9f6mqs700000gn/T/ipykernel_37946/269177924.py:8: FutureWarning: DataFrame.applymap has been deprecated. Use DataFrame.map instead.\n",
      "  basket_France = basket_France.applymap(hot_encode)\n",
      "/Users/rainn/miniconda3/lib/python3.12/site-packages/mlxtend/frequent_patterns/fpcommon.py:109: DeprecationWarning: DataFrames with non-bool types result in worse computationalperformance and their support might be discontinued in the future.Please use a DataFrame with bool type\n",
      "  warnings.warn(\n"
     ]
    }
   ],
   "execution_count": 4
  },
  {
   "metadata": {
    "ExecuteTime": {
     "end_time": "2024-11-21T12:56:11.532827Z",
     "start_time": "2024-11-21T12:56:10.108351Z"
    }
   },
   "cell_type": "code",
   "source": [
    "# Filtering data for Portugal\n",
    "basket_Portugal = (data[data['Country'] == \"Portugal\"]\n",
    "                   .groupby(['InvoiceNo', 'Description'])['Quantity']\n",
    "                   .sum().unstack().reset_index().fillna(0)\n",
    "                   .set_index('InvoiceNo'))\n",
    "\n",
    "# Hot encoding the data\n",
    "basket_Portugal = basket_Portugal.applymap(hot_encode)\n",
    "\n",
    "# FP-Growth for Portugal\n",
    "frq_items_Portugal = fpgrowth(basket_Portugal, min_support=0.05, use_colnames=True)\n",
    "rules_Portugal = association_rules(frq_items_Portugal, metric=\"lift\", min_threshold=1)\n",
    "\n",
    "# Display results\n",
    "print(\"Rules for Portugal\")\n",
    "print(rules_Portugal.sort_values(['confidence', 'lift'], ascending=[False, False]).head())"
   ],
   "id": "63faee9ec81748b4",
   "outputs": [
    {
     "name": "stderr",
     "output_type": "stream",
     "text": [
      "/var/folders/m9/0nbg00p93sb92bjc9f6mqs700000gn/T/ipykernel_37946/3238863492.py:8: FutureWarning: DataFrame.applymap has been deprecated. Use DataFrame.map instead.\n",
      "  basket_Portugal = basket_Portugal.applymap(hot_encode)\n",
      "/Users/rainn/miniconda3/lib/python3.12/site-packages/mlxtend/frequent_patterns/fpcommon.py:109: DeprecationWarning: DataFrames with non-bool types result in worse computationalperformance and their support might be discontinued in the future.Please use a DataFrame with bool type\n",
      "  warnings.warn(\n"
     ]
    },
    {
     "name": "stdout",
     "output_type": "stream",
     "text": [
      "Rules for Portugal\n",
      "                                             antecedents  \\\n",
      "13224  (LUNCH BAG CARS BLUE, PLASTERS IN TIN CIRCUS P...   \n",
      "13225    (LUNCH BAG CARS BLUE, PLASTERS IN TIN SPACEBOY)   \n",
      "13228  (LUNCH BAG PINK POLKADOT, PLASTERS IN TIN CIRC...   \n",
      "13229  (LUNCH BAG PINK POLKADOT, PLASTERS IN TIN SPAC...   \n",
      "13239  (LUNCH BAG CARS BLUE, PLASTERS IN TIN CIRCUS P...   \n",
      "\n",
      "                                             consequents  antecedent support  \\\n",
      "13224  (LUNCH BAG PINK POLKADOT, PLASTERS IN TIN SPAC...            0.051724   \n",
      "13225  (LUNCH BAG PINK POLKADOT, PLASTERS IN TIN CIRC...            0.051724   \n",
      "13228    (LUNCH BAG CARS BLUE, PLASTERS IN TIN SPACEBOY)            0.051724   \n",
      "13229  (LUNCH BAG CARS BLUE, PLASTERS IN TIN CIRCUS P...            0.051724   \n",
      "13239  (LUNCH BAG PINK POLKADOT, PLASTERS IN TIN VINT...            0.051724   \n",
      "\n",
      "       consequent support   support  confidence       lift  leverage  \\\n",
      "13224            0.051724  0.051724         1.0  19.333333  0.049049   \n",
      "13225            0.051724  0.051724         1.0  19.333333  0.049049   \n",
      "13228            0.051724  0.051724         1.0  19.333333  0.049049   \n",
      "13229            0.051724  0.051724         1.0  19.333333  0.049049   \n",
      "13239            0.051724  0.051724         1.0  19.333333  0.049049   \n",
      "\n",
      "       conviction  zhangs_metric  \n",
      "13224         inf            1.0  \n",
      "13225         inf            1.0  \n",
      "13228         inf            1.0  \n",
      "13229         inf            1.0  \n",
      "13239         inf            1.0  \n"
     ]
    }
   ],
   "execution_count": 5
  },
  {
   "metadata": {
    "ExecuteTime": {
     "end_time": "2024-11-21T12:56:11.970361Z",
     "start_time": "2024-11-21T12:56:11.554245Z"
    }
   },
   "cell_type": "code",
   "source": [
    "# Filtering data for Sweden\n",
    "basket_Sweden = (data[data['Country'] == \"Sweden\"]\n",
    "                 .groupby(['InvoiceNo', 'Description'])['Quantity']\n",
    "                 .sum().unstack().reset_index().fillna(0)\n",
    "                 .set_index('InvoiceNo'))\n",
    "\n",
    "# Hot encoding the data\n",
    "basket_Sweden = basket_Sweden.applymap(hot_encode)\n",
    "\n",
    "# FP-Growth for Sweden\n",
    "frq_items_Sweden = fpgrowth(basket_Sweden, min_support=0.05, use_colnames=True)\n",
    "rules_Sweden = association_rules(frq_items_Sweden, metric=\"lift\", min_threshold=1)\n",
    "\n",
    "# Display results\n",
    "print(\"Rules for Sweden\")\n",
    "print(rules_Sweden.sort_values(['confidence', 'lift'], ascending=[False, False]).head())"
   ],
   "id": "35b779d00c34472d",
   "outputs": [
    {
     "name": "stderr",
     "output_type": "stream",
     "text": [
      "/var/folders/m9/0nbg00p93sb92bjc9f6mqs700000gn/T/ipykernel_37946/1343027827.py:8: FutureWarning: DataFrame.applymap has been deprecated. Use DataFrame.map instead.\n",
      "  basket_Sweden = basket_Sweden.applymap(hot_encode)\n",
      "/Users/rainn/miniconda3/lib/python3.12/site-packages/mlxtend/frequent_patterns/fpcommon.py:109: DeprecationWarning: DataFrames with non-bool types result in worse computationalperformance and their support might be discontinued in the future.Please use a DataFrame with bool type\n",
      "  warnings.warn(\n"
     ]
    },
    {
     "name": "stdout",
     "output_type": "stream",
     "text": [
      "Rules for Sweden\n",
      "                                           antecedents  \\\n",
      "121  (PACK OF 60 SPACEBOY CAKE CASES, RETROSPOT TEA...   \n",
      "122  (PACK OF 60 SPACEBOY CAKE CASES, MINI PAINT SE...   \n",
      "123  (PACK OF 72 RETROSPOT CAKE CASES, RETROSPOT TE...   \n",
      "124  (PACK OF 72 RETROSPOT CAKE CASES, MINI PAINT S...   \n",
      "149  (PACK OF 72 RETROSPOT CAKE CASES, SET OF 3 CAK...   \n",
      "\n",
      "                                           consequents  antecedent support  \\\n",
      "121  (PACK OF 72 RETROSPOT CAKE CASES, MINI PAINT S...            0.055556   \n",
      "122  (PACK OF 72 RETROSPOT CAKE CASES, RETROSPOT TE...            0.055556   \n",
      "123  (PACK OF 60 SPACEBOY CAKE CASES, MINI PAINT SE...            0.055556   \n",
      "124  (PACK OF 60 SPACEBOY CAKE CASES, RETROSPOT TEA...            0.055556   \n",
      "149  (PACK OF 60 SPACEBOY CAKE CASES, MINI PAINT SE...            0.055556   \n",
      "\n",
      "     consequent support   support  confidence  lift  leverage  conviction  \\\n",
      "121            0.055556  0.055556         1.0  18.0  0.052469         inf   \n",
      "122            0.055556  0.055556         1.0  18.0  0.052469         inf   \n",
      "123            0.055556  0.055556         1.0  18.0  0.052469         inf   \n",
      "124            0.055556  0.055556         1.0  18.0  0.052469         inf   \n",
      "149            0.055556  0.055556         1.0  18.0  0.052469         inf   \n",
      "\n",
      "     zhangs_metric  \n",
      "121            1.0  \n",
      "122            1.0  \n",
      "123            1.0  \n",
      "124            1.0  \n",
      "149            1.0  \n"
     ]
    }
   ],
   "execution_count": 6
  },
  {
   "metadata": {
    "ExecuteTime": {
     "end_time": "2024-11-21T12:56:12.026353Z",
     "start_time": "2024-11-21T12:56:11.991353Z"
    }
   },
   "cell_type": "code",
   "source": [
    "# Filtering data for Japan\n",
    "basket_Japan = (data[data['Country'] == \"Japan\"]\n",
    "                .groupby(['InvoiceNo', 'Description'])['Quantity']\n",
    "                .sum().unstack().reset_index().fillna(0)\n",
    "                .set_index('InvoiceNo'))\n",
    "\n",
    "# Hot encoding the data\n",
    "basket_Japan = basket_Japan.applymap(hot_encode)\n",
    "\n",
    "# FP-Growth for Japan\n",
    "frq_items_Japan = fpgrowth(basket_Japan, min_support=0.11, use_colnames=True)\n",
    "rules_Japan = association_rules(frq_items_Japan, metric=\"lift\", min_threshold=1)\n",
    "\n",
    "# Display results\n",
    "print(\"Rules for Japan\")\n",
    "print(rules_Japan.sort_values(['confidence', 'lift'], ascending=[False, False]).head())"
   ],
   "id": "298fdd8f1a2cb930",
   "outputs": [
    {
     "name": "stdout",
     "output_type": "stream",
     "text": [
      "Rules for Japan\n",
      "                                           antecedents  \\\n",
      "136  (CHARLOTTE BAG DOLLY GIRL DESIGN, BASKET OF TO...   \n",
      "138  (CHARLOTTE BAG DOLLY GIRL DESIGN, SET 3 RETROS...   \n",
      "139  (BASKET OF TOADSTOOLS, LUNCH BAG DOLLY GIRL DE...   \n",
      "141  (LUNCH BAG DOLLY GIRL DESIGN, SET 3 RETROSPOT ...   \n",
      "167  (BASKET OF TOADSTOOLS, LUNCH BAG DOLLY GIRL DE...   \n",
      "\n",
      "                                           consequents  antecedent support  \\\n",
      "136  (LUNCH BAG DOLLY GIRL DESIGN, SET 3 RETROSPOT ...            0.157895   \n",
      "138  (BASKET OF TOADSTOOLS, LUNCH BAG DOLLY GIRL DE...            0.157895   \n",
      "139  (CHARLOTTE BAG DOLLY GIRL DESIGN, SET 3 RETROS...            0.157895   \n",
      "141  (CHARLOTTE BAG DOLLY GIRL DESIGN, BASKET OF TO...            0.157895   \n",
      "167  (CHARLOTTE BAG DOLLY GIRL DESIGN, SET 3 RETROS...            0.157895   \n",
      "\n",
      "     consequent support   support  confidence      lift  leverage  conviction  \\\n",
      "136            0.157895  0.157895         1.0  6.333333  0.132964         inf   \n",
      "138            0.157895  0.157895         1.0  6.333333  0.132964         inf   \n",
      "139            0.157895  0.157895         1.0  6.333333  0.132964         inf   \n",
      "141            0.157895  0.157895         1.0  6.333333  0.132964         inf   \n",
      "167            0.157895  0.157895         1.0  6.333333  0.132964         inf   \n",
      "\n",
      "     zhangs_metric  \n",
      "136            1.0  \n",
      "138            1.0  \n",
      "139            1.0  \n",
      "141            1.0  \n",
      "167            1.0  \n"
     ]
    },
    {
     "name": "stderr",
     "output_type": "stream",
     "text": [
      "/var/folders/m9/0nbg00p93sb92bjc9f6mqs700000gn/T/ipykernel_37946/2233575922.py:8: FutureWarning: DataFrame.applymap has been deprecated. Use DataFrame.map instead.\n",
      "  basket_Japan = basket_Japan.applymap(hot_encode)\n",
      "/Users/rainn/miniconda3/lib/python3.12/site-packages/mlxtend/frequent_patterns/fpcommon.py:109: DeprecationWarning: DataFrames with non-bool types result in worse computationalperformance and their support might be discontinued in the future.Please use a DataFrame with bool type\n",
      "  warnings.warn(\n"
     ]
    }
   ],
   "execution_count": 7
  },
  {
   "metadata": {
    "ExecuteTime": {
     "end_time": "2024-11-21T12:56:12.094025Z",
     "start_time": "2024-11-21T12:56:12.049835Z"
    }
   },
   "cell_type": "code",
   "source": [
    "# Filtering data for Iceland\n",
    "basket_Iceland = (data[data['Country'] == \"Iceland\"]\n",
    "                  .groupby(['InvoiceNo', 'Description'])['Quantity']\n",
    "                  .sum().unstack().reset_index().fillna(0)\n",
    "                  .set_index('InvoiceNo'))\n",
    "\n",
    "# Hot encoding the data\n",
    "basket_Iceland = basket_Iceland.applymap(hot_encode)\n",
    "\n",
    "# FP-Growth for Iceland\n",
    "frq_items_Iceland = fpgrowth(basket_Iceland, min_support=0.29, use_colnames=True)\n",
    "rules_Iceland = association_rules(frq_items_Iceland, metric=\"lift\", min_threshold=1)\n",
    "\n",
    "# Display results\n",
    "print(\"Rules for Iceland\")\n",
    "print(rules_Iceland.sort_values(['confidence', 'lift'], ascending=[False, False]).head())"
   ],
   "id": "fdd1b07814da6537",
   "outputs": [
    {
     "name": "stdout",
     "output_type": "stream",
     "text": [
      "Rules for Iceland\n",
      "                                           antecedents  \\\n",
      "268                           (MINI PAINT SET VINTAGE)   \n",
      "269                     (LARGE HEART MEASURING SPOONS)   \n",
      "274  (RED TOADSTOOL LED NIGHT LIGHT, MINI PAINT SET...   \n",
      "275  (RED TOADSTOOL LED NIGHT LIGHT, LARGE HEART ME...   \n",
      "278                           (MINI PAINT SET VINTAGE)   \n",
      "\n",
      "                                           consequents  antecedent support  \\\n",
      "268                     (LARGE HEART MEASURING SPOONS)            0.428571   \n",
      "269                           (MINI PAINT SET VINTAGE)            0.428571   \n",
      "274                     (LARGE HEART MEASURING SPOONS)            0.428571   \n",
      "275                           (MINI PAINT SET VINTAGE)            0.428571   \n",
      "278  (RED TOADSTOOL LED NIGHT LIGHT, LARGE HEART ME...            0.428571   \n",
      "\n",
      "     consequent support   support  confidence      lift  leverage  conviction  \\\n",
      "268            0.428571  0.428571         1.0  2.333333  0.244898         inf   \n",
      "269            0.428571  0.428571         1.0  2.333333  0.244898         inf   \n",
      "274            0.428571  0.428571         1.0  2.333333  0.244898         inf   \n",
      "275            0.428571  0.428571         1.0  2.333333  0.244898         inf   \n",
      "278            0.428571  0.428571         1.0  2.333333  0.244898         inf   \n",
      "\n",
      "     zhangs_metric  \n",
      "268            1.0  \n",
      "269            1.0  \n",
      "274            1.0  \n",
      "275            1.0  \n",
      "278            1.0  \n"
     ]
    },
    {
     "name": "stderr",
     "output_type": "stream",
     "text": [
      "/var/folders/m9/0nbg00p93sb92bjc9f6mqs700000gn/T/ipykernel_37946/555863899.py:8: FutureWarning: DataFrame.applymap has been deprecated. Use DataFrame.map instead.\n",
      "  basket_Iceland = basket_Iceland.applymap(hot_encode)\n",
      "/Users/rainn/miniconda3/lib/python3.12/site-packages/mlxtend/frequent_patterns/fpcommon.py:109: DeprecationWarning: DataFrames with non-bool types result in worse computationalperformance and their support might be discontinued in the future.Please use a DataFrame with bool type\n",
      "  warnings.warn(\n"
     ]
    }
   ],
   "execution_count": 8
  }
 ],
 "metadata": {
  "kernelspec": {
   "display_name": "Python 3",
   "language": "python",
   "name": "python3"
  },
  "language_info": {
   "codemirror_mode": {
    "name": "ipython",
    "version": 2
   },
   "file_extension": ".py",
   "mimetype": "text/x-python",
   "name": "python",
   "nbconvert_exporter": "python",
   "pygments_lexer": "ipython2",
   "version": "2.7.6"
  }
 },
 "nbformat": 4,
 "nbformat_minor": 5
}
